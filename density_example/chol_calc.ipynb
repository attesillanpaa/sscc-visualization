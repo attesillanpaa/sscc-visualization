{
 "cells": [
  {
   "cell_type": "markdown",
   "metadata": {},
   "source": [
    "# 1D and 2D density plots\n",
    "These scripts make use of Gromacs analysis tool data (xvg files). First, we set some general parameters that define what the plots look like. These you could copy from previous notebooks to achieve uniform style."
   ]
  },
  {
   "cell_type": "code",
   "execution_count": null,
   "metadata": {},
   "outputs": [],
   "source": [
    "import numpy as np\n",
    "import scipy\n",
    "\n",
    "import matplotlib as mpl\n",
    "import matplotlib.pyplot as plt\n",
    "%matplotlib inline\n",
    "#%config InlineBackend.figure_format = 'pdf'\n",
    "from mpl_toolkits.axes_grid1.inset_locator import inset_axes\n",
    "\n",
    "from IPython.display import set_matplotlib_formats\n",
    "set_matplotlib_formats('pdf', 'png')\n",
    "plt.rcParams['savefig.dpi'] = 300\n",
    "\n",
    "plt.rcParams['figure.autolayout'] = False\n",
    "plt.rcParams['figure.figsize'] = 10, 6\n",
    "plt.rcParams['axes.labelsize'] = 18\n",
    "plt.rcParams['axes.titlesize'] = 20\n",
    "plt.rcParams['font.size'] = 16\n",
    "plt.rcParams['lines.linewidth'] = 2.0\n",
    "plt.rcParams['lines.markersize'] = 8\n",
    "plt.rcParams['legend.fontsize'] = 14\n",
    "\n",
    "# The following require a local LaTex installation. If available, uncomment.\n",
    "\n",
    "#plt.rcParams['text.usetex'] = True\n",
    "#plt.rcParams['font.family'] = \"sans-serif\"\n",
    "#plt.rcParams['font.serif'] = \"cm\"\n",
    "#plt.rcParams['text.latex.preamble'] = r\"\\usepackage{subdepth}, \\usepackage{type1cm}\""
   ]
  },
  {
   "cell_type": "markdown",
   "metadata": {},
   "source": [
    "# Loading the data"
   ]
  },
  {
   "cell_type": "markdown",
   "metadata": {},
   "source": [
    "The data is from a continuous trajectory divided into 5 pieces.\n",
    "It contains the center of mass coordinates of each cholesterol molecule in the trajectory"
   ]
  },
  {
   "cell_type": "code",
   "execution_count": null,
   "metadata": {},
   "outputs": [],
   "source": [
    "N=5\n",
    "coor={}\n",
    "for i in range(0,N):\n",
    "    coor[i]=np.loadtxt('chol_com_coord_' + str(i) + '.xvg')"
   ]
  },
  {
   "cell_type": "markdown",
   "metadata": {},
   "source": [
    "# Calculating the densities of cholesterol along the membrane normal"
   ]
  },
  {
   "cell_type": "markdown",
   "metadata": {},
   "source": [
    "Extract z y and z coordiantes from the loaded data and calculate the distribution along z.\n"
   ]
  },
  {
   "cell_type": "code",
   "execution_count": null,
   "metadata": {
    "scrolled": true
   },
   "outputs": [],
   "source": [
    "binedges=np.arange(7,14,0.05)\n",
    "for i in range(0,N): \n",
    "    # every third column is x starting from column 1\n",
    "    x=coor[i][:,1::3].reshape(-1)\n",
    "    # every third column is y starting from column 1\n",
    "    y=coor[i][:,2::3].reshape(-1)\n",
    "    # every third column is z starting from column 1\n",
    "    z=coor[i][:,3::3].reshape(-1)\n",
    "    hist , binedges = np.histogram(z, bins=binedges, density=True)\n",
    "    bincenters=binedges[1:]/2.+binedges[0:-1]/2.\n",
    "    plt.plot(bincenters, hist)\n",
    "    plt.xlabel(r'$z$ / nm')\n",
    "    plt.ylabel(r'$n$')\n",
    "\n",
    "    mask= (bincenters>10) * (bincenters<12)"
   ]
  },
  {
   "cell_type": "markdown",
   "metadata": {},
   "source": [
    "# Calculating the 2D densities"
   ]
  },
  {
   "cell_type": "markdown",
   "metadata": {},
   "source": [
    "1) Generate the grid"
   ]
  },
  {
   "cell_type": "code",
   "execution_count": null,
   "metadata": {},
   "outputs": [],
   "source": [
    "dx=0.2\n",
    "dy=0.2\n",
    "xedges=np.arange(-4,12,dx)\n",
    "yedges=np.arange(-3,13,dy)"
   ]
  },
  {
   "cell_type": "markdown",
   "metadata": {},
   "source": [
    "2) Make the histogram seperately for each data file"
   ]
  },
  {
   "cell_type": "code",
   "execution_count": null,
   "metadata": {},
   "outputs": [],
   "source": [
    "H_a={}\n",
    "for i in range(0,N):   \n",
    "    x=coor[i][:,1::3].reshape(-1)\n",
    "    y=coor[i][:,2::3].reshape(-1)\n",
    "    z=coor[i][:,3::3].reshape(-1)\n",
    "    H, _xedges,_yedges = np.histogram2d(x,y, bins=(xedges,yedges), density=True)\n",
    "    H_a[i]=H"
   ]
  },
  {
   "cell_type": "markdown",
   "metadata": {},
   "source": [
    "3) Histogram and plot the data"
   ]
  },
  {
   "cell_type": "code",
   "execution_count": null,
   "metadata": {},
   "outputs": [],
   "source": [
    "xc=(xedges[1:]+xedges[:-1]) / 2.0\n",
    "yc=(yedges[1:]+yedges[:-1]) / 2.0\n",
    "\n",
    "for i in range(0,N):     \n",
    "    H=H_a[i].copy()\n",
    "    H[H==0]=np.nan\n",
    "    plt.matshow(H, cmap=plt.cm.gray_r, interpolation='gaussian', vmin=0, vmax=0.08)\n",
    "    plt.xlabel(r'$x$ / nm')\n",
    "    plt.ylabel(r'$y$ / nm')\n",
    "    ax = plt.gca();\n",
    "    ax.set_xticks(np.arange(0, H.shape[0],20))\n",
    "    ax.set_yticks(np.arange(0, H.shape[0],20))\n",
    "    ax.set_xticklabels(xc[::20].astype(int))\n",
    "    ax.set_yticklabels(yc[::20].astype(int))\n",
    "    cb=plt.colorbar()\n",
    "    cb.set_label(r'$\\rho$ / nm$^{-1}$')"
   ]
  },
  {
   "cell_type": "markdown",
   "metadata": {},
   "source": [
    "4) The above density is for both leaflets. Below, I seperate the leaflets of the membrane and plot choelsterol distribution seperately."
   ]
  },
  {
   "cell_type": "markdown",
   "metadata": {},
   "source": [
    "Upper leaflet"
   ]
  },
  {
   "cell_type": "code",
   "execution_count": null,
   "metadata": {},
   "outputs": [],
   "source": [
    "H_u={}\n",
    "for i in range(0,N):   \n",
    "    z=coor[i][:,3::3].reshape(-1)\n",
    "    # I determined that z greater thatn 11 s the upper leaflet\n",
    "    leaflet=z>11\n",
    "    x=coor[i][:,1::3].reshape(-1)[leaflet]\n",
    "    y=coor[i][:,2::3].reshape(-1)[leaflet]\n",
    "    \n",
    "    H, _xedges,_yedges = np.histogram2d(x,y, bins=(xedges,yedges), density=True)\n",
    "    H_u[i]=H"
   ]
  },
  {
   "cell_type": "code",
   "execution_count": null,
   "metadata": {},
   "outputs": [],
   "source": [
    "xc=(xedges[1:]+xedges[:-1]) / 2.0\n",
    "yc=(yedges[1:]+yedges[:-1]) / 2.0\n",
    "\n",
    "for i in range(0,N):     \n",
    "    H=H_u[i].copy()\n",
    "    H[H==0]=np.nan\n",
    "    plt.matshow(H, cmap=plt.cm.gray_r, interpolation='gaussian', vmin=0, vmax=0.15)\n",
    "    plt.xlabel(r'$x$ / nm')\n",
    "    plt.ylabel(r'$y$ / nm')\n",
    "    ax = plt.gca();\n",
    "    ax.set_xticks(np.arange(0, H.shape[0],20))\n",
    "    ax.set_yticks(np.arange(0, H.shape[0],20))\n",
    "    ax.set_xticklabels(xc[::20].astype(int))\n",
    "    ax.set_yticklabels(yc[::20].astype(int))\n",
    "    cb=plt.colorbar()\n",
    "    cb.set_label(r'$\\rho$ / nm$^{-1}$')"
   ]
  },
  {
   "cell_type": "markdown",
   "metadata": {},
   "source": [
    "Lower Leaflet"
   ]
  },
  {
   "cell_type": "code",
   "execution_count": null,
   "metadata": {},
   "outputs": [],
   "source": [
    "H_l={}\n",
    "for i in range(0,N):   \n",
    "    z=coor[i][:,3::3].reshape(-1)\n",
    "    # I determined that z greater thatn 11 s the upper leaflet\n",
    "    leaflet=z<=11\n",
    "    x=coor[i][:,1::3].reshape(-1)[leaflet]\n",
    "    y=coor[i][:,2::3].reshape(-1)[leaflet]\n",
    "    \n",
    "    H, _xedges,_yedges = np.histogram2d(x,y, bins=(xedges,yedges), density=True)\n",
    "    H_l[i]=H"
   ]
  },
  {
   "cell_type": "code",
   "execution_count": null,
   "metadata": {},
   "outputs": [],
   "source": [
    "xc=(xedges[1:]+xedges[:-1]) / 2.0\n",
    "yc=(yedges[1:]+yedges[:-1]) / 2.0\n",
    "\n",
    "for i in range(0,N):     \n",
    "    H=H_l[i].copy()\n",
    "    H[H==0]=np.nan\n",
    "    plt.matshow(H, cmap=plt.cm.gray_r, interpolation='gaussian', vmin=0, vmax=0.15)\n",
    "    plt.xlabel(r'$x$ / nm')\n",
    "    plt.ylabel(r'$y$ / nm')\n",
    "    ax = plt.gca();\n",
    "    ax.set_xticks(np.arange(0, H.shape[0],20))\n",
    "    ax.set_yticks(np.arange(0, H.shape[0],20))\n",
    "    ax.set_xticklabels(xc[::20].astype(int))\n",
    "    ax.set_yticklabels(yc[::20].astype(int))\n",
    "    cb=plt.colorbar()\n",
    "    cb.set_label(r'$\\rho$ / nm$^{-1}$')"
   ]
  },
  {
   "cell_type": "markdown",
   "metadata": {},
   "source": [
    "# Block bootstrap for a simple implementation to estimate errors."
   ]
  },
  {
   "cell_type": "markdown",
   "metadata": {},
   "source": [
    "I could use the standard error estimate, but I wanted to try bootstrapping.\n",
    "I have the data in pieces, I consider each piece an independent block. "
   ]
  },
  {
   "cell_type": "code",
   "execution_count": null,
   "metadata": {},
   "outputs": [],
   "source": [
    "Nboot=100\n",
    "\n",
    "mu_a=np.zeros(H_a[0].shape)\n",
    "std_a=np.zeros(H_a[0].shape)\n",
    "\n",
    "mu_u=np.zeros(H_u[0].shape)\n",
    "std_u=np.zeros(H_u[0].shape)\n",
    "\n",
    "mu_l=np.zeros(H_l[0].shape)\n",
    "std_l=np.zeros(H_l[0].shape)\n",
    "\n",
    "\n",
    "for bs in range(0,Nboot):\n",
    "    # Generate a list of 5 random numbers that determines the roder of drawing blocks\n",
    "    blocks=np.random.randint(1,N,size=N-1)\n",
    "    \n",
    "    # reestimate the density based on bootstrapped data\n",
    "    H=sum([H_a[i] for i in blocks])/blocks.size\n",
    "    # acumulate to calculate the mean and the standard deviation later\n",
    "    mu_a+=H\n",
    "    std_a+=H**2.0\n",
    "    \n",
    "    # do the same for the upper and the lower leaflets\n",
    "    H=sum([H_u[i] for i in blocks])/blocks.size\n",
    "    mu_u+=H\n",
    "    std_u+=H**2.0\n",
    "    \n",
    "    H=sum([H_l[i] for i in blocks])/blocks.size\n",
    "    mu_l+=H\n",
    "    std_l+=H**2.0\n",
    "\n",
    "# Get the means and the standard deviations.  With bootstrap std = error    \n",
    "mu_a/=Nboot\n",
    "std_a=(std_a/Nboot-mu_a**2.0)**0.5    \n",
    " \n",
    "mu_u/=Nboot\n",
    "std_u=(std_u/Nboot-mu_u**2.0)**0.5\n",
    "    \n",
    "mu_l/=Nboot\n",
    "std_l=(std_l/Nboot-mu_l**2.0)**0.5"
   ]
  },
  {
   "cell_type": "markdown",
   "metadata": {},
   "source": [
    "Plot the average denstity and the 2D error"
   ]
  },
  {
   "cell_type": "code",
   "execution_count": null,
   "metadata": {},
   "outputs": [],
   "source": [
    "from mpl_toolkits.axes_grid1 import make_axes_locatable\n",
    "\n",
    "# for colorbar tick marks\n",
    "from matplotlib import ticker\n",
    "\n",
    "# for scale bar\n",
    "from mpl_toolkits.axes_grid1.anchored_artists import AnchoredSizeBar\n",
    "#import matplotlib.font_manager as fm\n",
    "#fontprops = fm.FontProperties(size=18)\n",
    "\n",
    "dict_mu={}\n",
    "dict_mu[0]=mu_a\n",
    "dict_mu[1]=mu_u\n",
    "dict_mu[2]=mu_l\n",
    "\n",
    "dict_std={}\n",
    "dict_std[0]=std_a\n",
    "dict_std[1]=std_u\n",
    "dict_std[2]=std_l\n",
    "\n",
    "#print(mu_a[np.isfinite(mu_a)])\n",
    "\n",
    "for i in range(0,3):\n",
    "    mu=dict_mu[i].copy()\n",
    "    mu[mu==0]=np.nan\n",
    "    std=dict_std[i].copy()\n",
    "    std[std==0]=np.nan \n",
    "    \n",
    "    f, ax = plt.subplots(1, 2, sharey=False)\n",
    "    plt.subplots_adjust(wspace=0.8)\n",
    "    \n",
    "    p0=ax[0].matshow(mu, cmap=plt.cm.gray_r, interpolation='none', vmin=0, vmax=0.05)\n",
    "    p1=ax[1].matshow(std, cmap=plt.cm.gray_r, interpolation='none', vmin=0, vmax=0.02)\n",
    "\n",
    "\n",
    "    ax_pos = ax[0].get_position()\n",
    "    cb_pos = [(ax_pos.x0 + ax_pos.width)+ax_pos.width*0.05, ax_pos.y0,  ax_pos.width / 20.0, ax_pos.height]\n",
    "    cax = f.add_axes(cb_pos)\n",
    "    cb0 = plt.colorbar(p0,cax=cax)\n",
    "   \n",
    "    ax_pos = ax[1].get_position()\n",
    "    cb_pos = [(ax_pos.x0 + ax_pos.width)+ax_pos.width*0.05, ax_pos.y0,  ax_pos.width / 20.0, ax_pos.height]\n",
    "    cax = f.add_axes(cb_pos)\n",
    "    cb1 = plt.colorbar(p1,cax=cax)\n",
    "           \n",
    "    for j in range(0,2):    \n",
    "        #ax[j].set_xlabel(r'$x$ / nm')\n",
    "        #ax[j].set_ylabel(r'$y$ / nm')\n",
    "        ax[j].set_xticks([])\n",
    "        ax[j].set_yticks([])\n",
    "        ax[j].set_xticklabels(xc[::20].astype(int))\n",
    "        ax[j].set_yticklabels(yc[::20].astype(int))\n",
    "    \n",
    "        scalebar = AnchoredSizeBar(ax[j].transData,\n",
    "                           5, str(dx*5)+' nm', 'lower right', \n",
    "                           pad=0.1,\n",
    "                           color='black',\n",
    "                           frameon=False,\n",
    "                           size_vertical=1,\n",
    "                           )\n",
    "\n",
    "        ax[j].add_artist(scalebar)\n",
    "    \n",
    "    cb0.set_label(r'$\\rho$ / nm$^{-1}$')\n",
    "    cb1.set_label(r'$\\epsilon_\\rho$ / nm$^{-1}$')\n",
    "\n",
    "    #cb0.ax.set_yticklabels(cb0.ax.get_yticklabels(),rotation='vertical')\n",
    "    tick_locator = ticker.MaxNLocator(nbins=2)\n",
    "    cb0.locator = tick_locator\n",
    "    cb0.update_ticks()\n",
    "    \n",
    "    tick_locator = ticker.MaxNLocator(nbins=2)\n",
    "    cb1.locator = tick_locator\n",
    "    cb1.update_ticks()"
   ]
  },
  {
   "cell_type": "code",
   "execution_count": null,
   "metadata": {},
   "outputs": [],
   "source": []
  }
 ],
 "metadata": {
  "hide_code_all_hidden": true,
  "kernelspec": {
   "display_name": "Python 3",
   "language": "python",
   "name": "python3"
  },
  "language_info": {
   "codemirror_mode": {
    "name": "ipython",
    "version": 3
   },
   "file_extension": ".py",
   "mimetype": "text/x-python",
   "name": "python",
   "nbconvert_exporter": "python",
   "pygments_lexer": "ipython3",
   "version": "3.6.8"
  },
  "varInspector": {
   "cols": {
    "lenName": 16,
    "lenType": 16,
    "lenVar": "40"
   },
   "kernels_config": {
    "python": {
     "delete_cmd_postfix": "",
     "delete_cmd_prefix": "del ",
     "library": "var_list.py",
     "varRefreshCmd": "print(var_dic_list())"
    },
    "r": {
     "delete_cmd_postfix": ") ",
     "delete_cmd_prefix": "rm(",
     "library": "var_list.r",
     "varRefreshCmd": "cat(var_dic_list()) "
    }
   },
   "types_to_exclude": [
    "module",
    "function",
    "builtin_function_or_method",
    "instance",
    "_Feature"
   ],
   "window_display": true
  }
 },
 "nbformat": 4,
 "nbformat_minor": 2
}
