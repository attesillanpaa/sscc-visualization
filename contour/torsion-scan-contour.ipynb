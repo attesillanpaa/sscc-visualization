{
 "cells": [
  {
   "cell_type": "markdown",
   "metadata": {},
   "source": [
    "# Plotting matrix data as contours\n",
    "The data has been created as a relaxed scan of two torsion angles of the simplest possible dipeptide Alanine-Alanine using a classical MD potentials using MacroModel in the Maestro suite. The data file has rather little documentation, so you'd need to check from the manuals what the data mean.\n",
    "![title](ala-ala-scan.png)\n",
    "First we'll import required libraries and read in the data."
   ]
  },
  {
   "cell_type": "code",
   "execution_count": null,
   "metadata": {},
   "outputs": [],
   "source": [
    "import numpy as np\n",
    "import matplotlib.pyplot as plt\n",
    "\n",
    "# this data is directly from Maestro and contains lines with a different number of values -> simple read fails\n",
    "#data = np.loadtxt(\"data.grd\", comments=\"BMIN\")\n",
    "\n",
    "# this has been cleaned of everything else except the potential energy values at x,y-points\n",
    "data = np.loadtxt(\"data_simple.grd\")\n",
    "print(len(data))"
   ]
  },
  {
   "cell_type": "markdown",
   "metadata": {},
   "source": [
    "Data now includes an array of 1369 values. The matplotlib contour command expects a matrix. From the full data file we know that the two torsion angles have been scanned from 0 to 360 in 10 degree steps, i.e. 37 values for each."
   ]
  },
  {
   "cell_type": "code",
   "execution_count": null,
   "metadata": {},
   "outputs": [],
   "source": [
    "# let's reshape the data to a 37x37 matrix\n",
    "pot=np.reshape(data,(37,37))\n",
    "\n",
    "# and create values for axes in degrees\n",
    "# x axis will be torsion 1 i.e. 13-12-11-3\n",
    "# y axis torsion 2 12 11 3 2\n",
    "x=np.linspace(0,360,37)\n",
    "y=x"
   ]
  },
  {
   "cell_type": "markdown",
   "metadata": {},
   "source": [
    "Now we're all set, so create a handle for the plot, plot and add annotations."
   ]
  },
  {
   "cell_type": "code",
   "execution_count": null,
   "metadata": {},
   "outputs": [],
   "source": [
    "fig,ax = plt.subplots()\n",
    "potsurf = ax.contour(x,y,pot)\n",
    "\n",
    "ax.set_title('relaxed torsion scan potential energy for Alanine-Alanine')\n",
    "plt.xlabel('Torsion (13-12-11-3) in Deg')\n",
    "plt.ylabel('Torsion (12-11-3-2) in Deg')\n",
    "\n",
    "# get the indices of the minimum value\n",
    "ind = np.unravel_index(np.argmin(pot, axis=None), pot.shape)\n",
    "ind\n",
    "# the corresponding values in degrees we get\n",
    "x[ind[1]],y[ind[0]]\n",
    "mini=x[ind[1]],y[ind[0]]\n",
    "# note since torsions are periodic 290 == -70\n",
    "ax.annotate(\"Minimum\",mini,xycoords=\"data\")"
   ]
  },
  {
   "cell_type": "markdown",
   "metadata": {},
   "source": [
    "### Hands on\n",
    "Make the contour look better and highlight interesting features. Look for this page to fine tune contour spacing, colouring etc. For example, add contour labels for every third line.\n",
    "https://matplotlib.org/gallery/images_contours_and_fields/contour_demo.html"
   ]
  },
  {
   "cell_type": "code",
   "execution_count": null,
   "metadata": {},
   "outputs": [],
   "source": []
  },
  {
   "cell_type": "code",
   "execution_count": null,
   "metadata": {},
   "outputs": [],
   "source": []
  }
 ],
 "metadata": {
  "kernelspec": {
   "display_name": "Python 3",
   "language": "python",
   "name": "python3"
  },
  "language_info": {
   "codemirror_mode": {
    "name": "ipython",
    "version": 3
   },
   "file_extension": ".py",
   "mimetype": "text/x-python",
   "name": "python",
   "nbconvert_exporter": "python",
   "pygments_lexer": "ipython3",
   "version": "3.6.8"
  }
 },
 "nbformat": 4,
 "nbformat_minor": 2
}
