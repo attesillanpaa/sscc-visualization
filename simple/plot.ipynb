{
 "cells": [
  {
   "cell_type": "markdown",
   "metadata": {},
   "source": [
    "# Simple plotting\n",
    "This example reads in a few files and creates xy-graphs with custom colours into the same plot. The custom colour scheme is done with the seaborn package. The first command is needed in Jupyter notebooks."
   ]
  },
  {
   "cell_type": "code",
   "execution_count": null,
   "metadata": {},
   "outputs": [],
   "source": [
    "%matplotlib inline"
   ]
  },
  {
   "cell_type": "code",
   "execution_count": null,
   "metadata": {},
   "outputs": [],
   "source": [
    "import numpy as np\n",
    "import pandas as pd\n",
    "import os\n",
    "from matplotlib import pyplot as plt\n",
    "import seaborn as sns\n",
    "\n",
    "sns.set(rc={'figure.figsize':(11.7,8.27)})\n",
    "sns.set_context('poster', font_scale=2)\n",
    "sns.set_style('ticks')\n",
    "# set colours to be used\n",
    "col = [\"#e74c3c\", \"#3498db\", \"#2ecc71\", \"#9b59b6\", \"#95a5a6\", \"#34495e\", ]\n",
    "# and print out a sample\n",
    "sns.palplot(sns.color_palette(col))"
   ]
  },
  {
   "cell_type": "markdown",
   "metadata": {},
   "source": [
    "The appearance of the plots are set using \"seaborn\". It is a useful tool built on top of matplotlib and <i>it provides a high-level interface for drawing attractive and informative statistical graphics</i>. More info, sample gallery and tutorials: https://seaborn.pydata.org/"
   ]
  },
  {
   "cell_type": "code",
   "execution_count": null,
   "metadata": {},
   "outputs": [],
   "source": [
    "# to get help on the seaborn library, give\n",
    "help(sns)"
   ]
  },
  {
   "cell_type": "markdown",
   "metadata": {},
   "source": [
    "### Hands on\n",
    "The next cell sets the variable \"do\" to \"charges\". It is used further below to select what is plotted and how it's labelled. Once you've done the first plot, change it to \"energies\" and run the scripts again."
   ]
  },
  {
   "cell_type": "code",
   "execution_count": null,
   "metadata": {},
   "outputs": [],
   "source": [
    "#do = 'charges'\n",
    "do = 'energies'"
   ]
  },
  {
   "cell_type": "markdown",
   "metadata": {},
   "source": [
    "The next script looks for files containing the string just specified and stores them in a list."
   ]
  },
  {
   "cell_type": "code",
   "execution_count": null,
   "metadata": {},
   "outputs": [],
   "source": [
    "filename = []\n",
    "for i in os.listdir('./'):\n",
    "    if i.startswith('psize') and i.split('_')[2].startswith(do):\n",
    "        filename += [i]\n",
    "filename = np.sort(filename)\n",
    "print(filename)"
   ]
  },
  {
   "cell_type": "markdown",
   "metadata": {},
   "source": [
    "Now we loop over all matching files found, set some properties of the plot, plot the data and save it as pdf."
   ]
  },
  {
   "cell_type": "code",
   "execution_count": null,
   "metadata": {},
   "outputs": [],
   "source": [
    "for file_ in filename:\n",
    "    data = np.genfromtxt(file_)\n",
    "    plt.plot(data[:, 0] * 10000, data[:, 1], label=file_.split('_')[1])\n",
    "    plt.yscale('log')\n",
    "    plt.xscale('log')\n",
    "    plt.xlabel('Train size (units, logscale)')\n",
    "    plt.ylabel('MAE (e{}, logscale)'.format('' if do == 'charges' else 'V'))\n",
    "    #plt.ylabel('Mean average error (e{})'.format('' if do == 'charges' else 'V'))\n",
    "    plt.xlim([1e3, 10000])\n",
    "    #plt.ylim(ymin=0)\n",
    "    plt.legend(loc=(0.5, 0.2), fontsize=24)\n",
    "plt.savefig(do+'_curve.pdf', format='pdf', bbox_inches='tight')"
   ]
  },
  {
   "cell_type": "markdown",
   "metadata": {},
   "source": [
    "### Hands on\n",
    "Now the legend is on top of some of the curves. Can you move it to the right out of the way? Does it make sense to decrease the font? Copy this script from above and edit that so that you have the original to go back to if needed. Hint: the variable to tweak is plt.legend"
   ]
  },
  {
   "cell_type": "code",
   "execution_count": null,
   "metadata": {},
   "outputs": [],
   "source": []
  },
  {
   "cell_type": "markdown",
   "metadata": {},
   "source": [
    "### Hands on\n",
    "Now, try changing the colour palette. Open the seaborn web page in a separate tab, open the tutorials and look for the colour palettes. Try to switch to using the palette designed for colour blind people. Hint: copy the second script cell below and edit the palette command. Copy over the plot command and run it as well."
   ]
  },
  {
   "cell_type": "code",
   "execution_count": null,
   "metadata": {},
   "outputs": [],
   "source": []
  }
 ],
 "metadata": {
  "kernelspec": {
   "display_name": "Python 3",
   "language": "python",
   "name": "python3"
  },
  "language_info": {
   "codemirror_mode": {
    "name": "ipython",
    "version": 3
   },
   "file_extension": ".py",
   "mimetype": "text/x-python",
   "name": "python",
   "nbconvert_exporter": "python",
   "pygments_lexer": "ipython3",
   "version": "3.6.8"
  },
  "latex_envs": {
   "LaTeX_envs_menu_present": true,
   "autoclose": false,
   "autocomplete": true,
   "bibliofile": "biblio.bib",
   "cite_by": "apalike",
   "current_citInitial": 1,
   "eqLabelWithNumbers": true,
   "eqNumInitial": 1,
   "hotkeys": {
    "equation": "Ctrl-E",
    "itemize": "Ctrl-I"
   },
   "labels_anchors": false,
   "latex_user_defs": false,
   "report_style_numbering": false,
   "user_envs_cfg": false
  }
 },
 "nbformat": 4,
 "nbformat_minor": 2
}
