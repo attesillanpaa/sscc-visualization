{
 "cells": [
  {
   "cell_type": "markdown",
   "metadata": {},
   "source": [
    "# Simple plotting from data files\n",
    "The following examples show how to read in data from files and plot it with error bars"
   ]
  },
  {
   "cell_type": "code",
   "execution_count": null,
   "metadata": {},
   "outputs": [],
   "source": [
    "import numpy as np\n",
    "import matplotlib.pyplot as plt\n",
    "\n",
    "# The data is created from a clearly unconverged thermodynamical integration for solvating methane in water\n",
    "# with Gromacs (one exercise on Tuesday). The original version \n",
    "# made by Justin Lemkul is available in here: http://www.mdtutorials.com/gmx/free_energy/index.html\n",
    "\n",
    "data = np.loadtxt(\"bar.xvg\", comments=[\"@\",\"#\"])\n",
    "print(len(data))"
   ]
  },
  {
   "cell_type": "code",
   "execution_count": null,
   "metadata": {},
   "outputs": [],
   "source": [
    "# split the matrix into components with meaningful names\n",
    "# note, lam below is an integer indicating Nth simulation (corresponding to values between with N-1,N,N+1)\n",
    "lam=data[:,0]\n",
    "dlam=data[:,1]\n",
    "err=data[:,2]\n",
    "dlam"
   ]
  },
  {
   "cell_type": "code",
   "execution_count": null,
   "metadata": {},
   "outputs": [],
   "source": [
    "fig = plt.figure()\n",
    "plt.plot(lam,dlam)\n",
    "plt.errorbar(lam,dlam,yerr=err,fmt='-',ecolor='purple',capsize=4)"
   ]
  },
  {
   "cell_type": "code",
   "execution_count": null,
   "metadata": {},
   "outputs": [],
   "source": [
    "cumdl=np.cumsum(dlam)\n",
    "cumerr=np.cumsum(err)\n",
    "cumerr[-1]"
   ]
  },
  {
   "cell_type": "code",
   "execution_count": null,
   "metadata": {},
   "outputs": [],
   "source": [
    "# let's see how the error builds up if we sum it - not mathematically correct\n",
    "fig = plt.figure()\n",
    "plt.plot(lam,cumdl,label='cumulative dG/dl')\n",
    "plt.errorbar(lam,cumdl+cumerr/2,label='cum +error')\n",
    "plt.errorbar(lam,cumdl-cumerr/2,label='cum -error')\n",
    "plt.ylabel(r'dG/dl in kT')\n",
    "plt.xlabel(r'N Lambda')\n",
    "plt.legend()"
   ]
  },
  {
   "cell_type": "code",
   "execution_count": null,
   "metadata": {},
   "outputs": [],
   "source": [
    "# to read in data where there is text in some columns you can specify which ones to use\n",
    "dg=np.loadtxt('final.txt', usecols=(1,3,5,7))"
   ]
  },
  {
   "cell_type": "code",
   "execution_count": null,
   "metadata": {},
   "outputs": [],
   "source": [
    "#dgl=(dg[:,0]+dg[:,2])/2\n",
    "dgkcalmol=dg[:,2]\n",
    "errkcalmol=dg[:,3]\n",
    "dgcumsum=np.cumsum(dgkcalmol)"
   ]
  },
  {
   "cell_type": "code",
   "execution_count": null,
   "metadata": {},
   "outputs": [],
   "source": [
    "lambdas=np.loadtxt('lambdas.txt')\n",
    "# lambda values give the states between which the dG/dl is computed, thus there's one more lambda value, than dG/dl\n",
    "# we'll go around this to use the end lambda as coordinate in the plot\n",
    "# lambda separation does not need to be uniform. Based on the profile, would it be more efficient to sample\n",
    "# some parts with smaller separation?\n",
    "lambdas=lambdas[1:]"
   ]
  },
  {
   "cell_type": "code",
   "execution_count": null,
   "metadata": {},
   "outputs": [],
   "source": [
    "fig = plt.figure()\n",
    "plt.plot(lambdas,dgkcalmol,label='dG/dl')\n",
    "plt.errorbar(lambdas,dgkcalmol,yerr=errkcalmol,fmt='',label='error',ecolor='k',capsize=4)\n",
    "#plt.errorbar(lambdas,cumdl-cumerr,label='cum -error')\n",
    "plt.ylabel(r'dG/dl in kcal/mol')\n",
    "plt.xlabel(r'Lambda')\n",
    "plt.legend()"
   ]
  },
  {
   "cell_type": "code",
   "execution_count": null,
   "metadata": {},
   "outputs": [],
   "source": [
    "# print the last element in the cumulative sum which is the integral\n",
    "dgcumsum[-1]"
   ]
  },
  {
   "cell_type": "code",
   "execution_count": null,
   "metadata": {},
   "outputs": [],
   "source": [
    "# look for more features and try them on the plots\n",
    "#help(plt.errorbar)"
   ]
  },
  {
   "cell_type": "code",
   "execution_count": null,
   "metadata": {},
   "outputs": [],
   "source": []
  }
 ],
 "metadata": {
  "kernelspec": {
   "display_name": "Python 3",
   "language": "python",
   "name": "python3"
  },
  "language_info": {
   "codemirror_mode": {
    "name": "ipython",
    "version": 3
   },
   "file_extension": ".py",
   "mimetype": "text/x-python",
   "name": "python",
   "nbconvert_exporter": "python",
   "pygments_lexer": "ipython3",
   "version": "3.6.8"
  }
 },
 "nbformat": 4,
 "nbformat_minor": 2
}
